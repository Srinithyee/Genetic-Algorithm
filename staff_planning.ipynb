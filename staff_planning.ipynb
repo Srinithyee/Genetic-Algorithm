{
 "cells": [
  {
   "cell_type": "code",
   "execution_count": 4,
   "metadata": {},
   "outputs": [],
   "source": [
    "import numpy as np\n",
    "import pandas as pd"
   ]
  },
  {
   "cell_type": "markdown",
   "metadata": {},
   "source": [
    ">We consider a list of 11 employees with employee IDs from 0 to 10.The 3 parameters in each embedded list is the staff_id,start time,duration.By a rule,every staff works for 10 hours each of the 5 working days of a week, hence the 5 rows."
   ]
  },
  {
   "cell_type": "code",
   "execution_count": 5,
   "metadata": {},
   "outputs": [],
   "source": [
    "staff_planning = [\n",
    "    [[0, 0, 10],[1, 0, 10],[2, 0, 10],[3, 0, 10],[4, 0, 10],[5, 0, 10],[6, 0, 10],[7, 0, 10],[8, 0, 10],[9, 0, 10],[10, 0, 10]],\n",
    "    [[0, 0, 10],[1, 0, 10],[2, 0, 10],[3, 0, 10],[4, 0, 10],[5, 0, 10],[6, 0, 10],[7, 0, 10],[8, 0, 10],[9, 0, 10],[10, 0, 10]],\n",
    "    [[0, 0, 10],[1, 0, 10],[2, 0, 10],[3, 0, 10],[4, 0, 10],[5, 0, 10],[6, 0, 10],[7, 0, 10],[8, 0, 10],[9, 0, 10],[10, 0, 10]],\n",
    "    [[0, 0, 10],[1, 0, 10],[2, 0, 10],[3, 0, 10],[4, 0, 10],[5, 0, 10],[6, 0, 10],[7, 0, 10],[8, 0, 10],[9, 0, 10],[10, 0, 10]],\n",
    "    [[0, 0, 10],[1, 0, 10],[2, 0, 10],[3, 0, 10],[4, 0, 10],[5, 0, 10],[6, 0, 10],[7, 0, 10],[8, 0, 10],[9, 0, 10],[10, 0, 10]]\n",
    "]"
   ]
  },
  {
   "cell_type": "markdown",
   "metadata": {},
   "source": [
    ">The staff needed is in the following shape:\n",
    "+ list of days\n",
    "+ each day is a list of 24 hours with the number of employees needed every hour"
   ]
  },
  {
   "cell_type": "code",
   "execution_count": 6,
   "metadata": {},
   "outputs": [],
   "source": [
    "hourlystaff_needed = np.array([\n",
    "    [0, 0, 0, 0, 0, 0, 4, 4, 4, 2, 2, 2, 6, 6, 2, 2, 2, 6, 6, 6, 2, 2, 2, 2],\n",
    "    [0, 0, 0, 0, 0, 0, 4, 4, 4, 2, 2, 2, 6, 6, 2, 2, 2, 6, 6, 6, 2, 2, 2, 2],\n",
    "    [0, 0, 0, 0, 0, 0, 4, 4, 4, 2, 2, 2, 6, 6, 2, 2, 2, 6, 6, 6, 2, 2, 2, 2],\n",
    "    [0, 0, 0, 0, 0, 0, 4, 4, 4, 2, 2, 2, 6, 6, 2, 2, 2, 6, 6, 6, 2, 2, 2, 2],\n",
    "    [0, 0, 0, 0, 0, 0, 4, 4, 4, 2, 2, 2, 6, 6, 2, 2, 2, 6, 6, 6, 2, 2, 2, 2]\n",
    "])"
   ]
  },
  {
   "cell_type": "markdown",
   "metadata": {},
   "source": [
    "### Check if an Employee is present\n"
   ]
  },
  {
   "cell_type": "code",
   "execution_count": 7,
   "metadata": {},
   "outputs": [],
   "source": [
    "def employee_present(employee, time):\n",
    "    employee_start_time = employee[1]\n",
    "    employee_duration = employee[2]\n",
    "    employee_end_time = employee_start_time + employee_duration\n",
    "    if (time >= employee_start_time) and (time < employee_end_time):\n",
    "        return True\n",
    "    return False"
   ]
  },
  {
   "cell_type": "markdown",
   "metadata": {},
   "source": [
    "### Convert a staff planning to a staff-needed planning.The employee planning is organised per employee, the staff-needed planning is the number of employees working per hour.The staff-needed planning is based on the employee planning and will allow to calculate the difference with the staff-needed\n"
   ]
  },
  {
   "cell_type": "code",
   "execution_count": 8,
   "metadata": {},
   "outputs": [],
   "source": [
    "def staffplanning_to_hourlyplanning(staff_planning):\n",
    "    \n",
    "    hourlystaff_week = []\n",
    "    for day in staff_planning:\n",
    "        \n",
    "        hourlystaff_day = [] \n",
    "        for employee in day:\n",
    "            \n",
    "            employee_present_hour = []\n",
    "            for time in range(0, 24):\n",
    "                \n",
    "                employee_present_hour.append(employee_present(employee, time))\n",
    "                \n",
    "            hourlystaff_day.append(employee_present_hour)\n",
    "            \n",
    "        hourlystaff_week.append(hourlystaff_day)\n",
    "        \n",
    "    hourlystaff_week = np.array(hourlystaff_week).sum(axis = 1)  \n",
    "    return hourlystaff_week"
   ]
  },
  {
   "cell_type": "markdown",
   "metadata": {},
   "source": [
    "### The cost is calculated as hours understaffed + hours overstaffed"
   ]
  },
  {
   "cell_type": "code",
   "execution_count": 9,
   "metadata": {},
   "outputs": [],
   "source": [
    "def cost(hourlystaff, hourlystaff_needed):\n",
    "    errors = hourlystaff - hourlystaff_needed\n",
    "    overstaff = abs(errors[errors > 0].sum())\n",
    "    understaff = abs(errors[errors < 0].sum())\n",
    "    \n",
    "    overstaff_cost = 1\n",
    "    understaff_cost = 1\n",
    "    \n",
    "    cost = overstaff_cost * overstaff + understaff_cost * understaff\n",
    "    return cost"
   ]
  },
  {
   "cell_type": "markdown",
   "metadata": {},
   "source": [
    "# CODE FOR GENETIC ALGORITHM\n"
   ]
  },
  {
   "cell_type": "markdown",
   "metadata": {},
   "source": [
    ">## The random initialization\n",
    "Given the fixed number of days and staffs,\n",
    "The only randomised parameters are:\n",
    "+ The start time of an Employee (between 0 and 23)\n",
    "+ The duration of Work of each Employee (between 0 and 10)\n"
   ]
  },
  {
   "cell_type": "code",
   "execution_count": 10,
   "metadata": {},
   "outputs": [],
   "source": [
    "def generate_random_staff_planning(n_days, n_staff):\n",
    "    period_planning = []\n",
    "    for day in range(n_days):\n",
    "        day_planning = []\n",
    "        for employee_id in range(n_staff):\n",
    "            start_time = np.random.randint(0, 23)\n",
    "            duration = np.random.randint(0, 10)\n",
    "            employee = [employee_id, start_time, duration]\n",
    "            day_planning.append(employee)\n",
    "\n",
    "        period_planning.append(day_planning)\n",
    "            \n",
    "    return period_planning"
   ]
  },
  {
   "cell_type": "markdown",
   "metadata": {},
   "source": [
    "# EXPOUND GENETICS"
   ]
  },
  {
   "cell_type": "markdown",
   "metadata": {},
   "source": [
    "## STEP 1\n",
    "### Genetic Creation\n",
    ">Creation of n parent sapling"
   ]
  },
  {
   "cell_type": "code",
   "execution_count": 11,
   "metadata": {},
   "outputs": [],
   "source": [
    "def create_parent_generation(n_parents, n_days = 7, n_staff = 11):\n",
    "    parents = []\n",
    "    for i in range(n_parents):\n",
    "        parent = generate_random_staff_planning(n_days = n_days, n_staff = n_staff)\n",
    "        parents.append(parent)\n",
    "    return parents"
   ]
  },
  {
   "cell_type": "markdown",
   "metadata": {},
   "source": [
    "## STEP 2\n",
    "### Cross Over/Combination\n",
    ">In each iteration, two parents are selected randomly and a random combination of the two parents is performed utilising th randomly generated yes/no mask on the parents that have been finalised."
   ]
  },
  {
   "cell_type": "code",
   "execution_count": 12,
   "metadata": {},
   "outputs": [],
   "source": [
    "def random_combine(parents, n_offspring):\n",
    "    n_parents = len(parents)\n",
    "    n_periods = len(parents[0])\n",
    "    n_employees = len(parents[0][0])\n",
    "    \n",
    "    offspring = []\n",
    "    for i in range(n_offspring):\n",
    "        random_dad = parents[np.random.randint(low = 0, high = n_parents - 1)]\n",
    "        random_mom = parents[np.random.randint(low = 0, high = n_parents - 1)]\n",
    "        \n",
    "        dad_mask = np.random.randint(0, 2, size = np.array(random_dad).shape)\n",
    "        mom_mask = np.logical_not(dad_mask)\n",
    "        \n",
    "        child = np.add(np.multiply(random_dad, dad_mask), np.multiply(random_mom, mom_mask))\n",
    "\n",
    "        offspring.append(child)\n",
    "    return offspring"
   ]
  },
  {
   "cell_type": "markdown",
   "metadata": {},
   "source": [
    "## STEP 3\n",
    "### Mutation\n"
   ]
  },
  {
   "cell_type": "code",
   "execution_count": 13,
   "metadata": {},
   "outputs": [],
   "source": [
    "def mutate_parent(parent, n_mutations):\n",
    "    size1 = parent.shape[0]\n",
    "    size2 = parent.shape[1]\n",
    "    \n",
    "    for i in range(n_mutations):\n",
    "\n",
    "        rand1 = np.random.randint(0, size1)\n",
    "        rand2 = np.random.randint(0, size2)\n",
    "        rand3 = np.random.randint(1, 2)\n",
    "\n",
    "        parent[rand1,rand2,rand3] = np.random.randint(0, 10)\n",
    "\n",
    "    return parent\n",
    "\n",
    "def mutate_gen(parent_gen, n_mutations):\n",
    "    mutated_parent_gen = []\n",
    "    for parent in parent_gen:\n",
    "        mutated_parent_gen.append(mutate_parent(parent, n_mutations))\n",
    "    return mutated_parent_gen"
   ]
  },
  {
   "cell_type": "markdown",
   "metadata": {},
   "source": [
    "## STEP 4\n",
    "### Feasibility\n",
    ">Work duartion of more than 10 hours is not permitted"
   ]
  },
  {
   "cell_type": "code",
   "execution_count": 15,
   "metadata": {},
   "outputs": [],
   "source": [
    "def is_acceptable(parent):\n",
    "    return np.logical_not((np.array(parent)[:,:,2:] > 10).any()) \n",
    "\n",
    "def select_acceptable(parent_gen):\n",
    "    parent_gen = [parent for parent in parent_gen if is_acceptable(parent)]\n",
    "    return parent_gen"
   ]
  },
  {
   "cell_type": "markdown",
   "metadata": {},
   "source": [
    "## STEP 5\n",
    "### Selection Cost\n",
    "> Using Inverse Fitness"
   ]
  },
  {
   "cell_type": "code",
   "execution_count": 16,
   "metadata": {},
   "outputs": [],
   "source": [
    "def select_best(parent_gen, hourlystaff_needed, n_best):\n",
    "    costs = []\n",
    "    for idx, parent_staff_planning in enumerate(parent_gen):\n",
    "        \n",
    "        parent_hourly_planning = staffplanning_to_hourlyplanning(parent_staff_planning)\n",
    "        parent_cost = cost(parent_hourly_planning, hourlystaff_needed)\n",
    "        costs.append([idx, parent_cost])\n",
    "    \n",
    "    print('generations best is: {}, generations worst is: {}'.format(pd.DataFrame(costs)[1].min(), pd.DataFrame(costs)[1].max()))\n",
    "    \n",
    "    costs_tmp = pd.DataFrame(costs).sort_values(by = 1, ascending = True).reset_index(drop=True)\n",
    "    selected_parents_idx = list(costs_tmp.iloc[:n_best,0])\n",
    "    selected_parents = [parent for idx, parent in enumerate(parent_gen) if idx in selected_parents_idx]\n",
    "    \n",
    "    return selected_parents\n"
   ]
  },
  {
   "cell_type": "markdown",
   "metadata": {},
   "source": [
    "# THE COMPLETE ALGORITHM"
   ]
  },
  {
   "cell_type": "code",
   "execution_count": 17,
   "metadata": {},
   "outputs": [],
   "source": [
    "def gen_algo(hourlystaff_needed, n_iterations):   \n",
    "    \n",
    "    generation_size = 500\n",
    "    \n",
    "    parent_gen = create_parent_generation(n_parents = generation_size, n_days = 5, n_staff = 11)\n",
    "    for it in range(n_iterations):\n",
    "        parent_gen = select_acceptable(parent_gen)\n",
    "        parent_gen = select_best(parent_gen, hourlystaff_needed, n_best = 100)\n",
    "        parent_gen = random_combine(parent_gen, n_offspring = generation_size)\n",
    "        parent_gen = mutate_gen(parent_gen, n_mutations = 1)\n",
    "    \n",
    "    best_child = select_best(parent_gen, hourlystaff_needed, n_best = 1)\n",
    "    return best_child"
   ]
  },
  {
   "cell_type": "markdown",
   "metadata": {},
   "source": [
    "## Executing..."
   ]
  },
  {
   "cell_type": "code",
   "execution_count": 18,
   "metadata": {},
   "outputs": [
    {
     "name": "stdout",
     "output_type": "stream",
     "text": [
      "generations best is: 169, generations worst is: 260\n",
      "generations best is: 163, generations worst is: 262\n",
      "generations best is: 156, generations worst is: 233\n",
      "generations best is: 152, generations worst is: 223\n",
      "generations best is: 147, generations worst is: 217\n",
      "generations best is: 142, generations worst is: 217\n",
      "generations best is: 134, generations worst is: 210\n",
      "generations best is: 131, generations worst is: 209\n",
      "generations best is: 128, generations worst is: 195\n",
      "generations best is: 121, generations worst is: 193\n",
      "generations best is: 117, generations worst is: 183\n",
      "generations best is: 116, generations worst is: 188\n",
      "generations best is: 121, generations worst is: 185\n",
      "generations best is: 118, generations worst is: 181\n",
      "generations best is: 114, generations worst is: 181\n",
      "generations best is: 106, generations worst is: 179\n",
      "generations best is: 98, generations worst is: 171\n",
      "generations best is: 101, generations worst is: 178\n",
      "generations best is: 106, generations worst is: 164\n",
      "generations best is: 105, generations worst is: 174\n",
      "generations best is: 102, generations worst is: 168\n",
      "generations best is: 97, generations worst is: 164\n",
      "generations best is: 94, generations worst is: 168\n",
      "generations best is: 87, generations worst is: 154\n",
      "generations best is: 87, generations worst is: 170\n",
      "generations best is: 89, generations worst is: 155\n",
      "generations best is: 85, generations worst is: 156\n",
      "generations best is: 82, generations worst is: 154\n",
      "generations best is: 84, generations worst is: 154\n",
      "generations best is: 79, generations worst is: 147\n",
      "generations best is: 78, generations worst is: 153\n",
      "generations best is: 75, generations worst is: 137\n",
      "generations best is: 66, generations worst is: 133\n",
      "generations best is: 76, generations worst is: 137\n",
      "generations best is: 71, generations worst is: 130\n",
      "generations best is: 71, generations worst is: 127\n",
      "generations best is: 70, generations worst is: 131\n",
      "generations best is: 64, generations worst is: 126\n",
      "generations best is: 66, generations worst is: 117\n",
      "generations best is: 63, generations worst is: 117\n",
      "generations best is: 58, generations worst is: 113\n",
      "generations best is: 54, generations worst is: 115\n",
      "generations best is: 57, generations worst is: 116\n",
      "generations best is: 53, generations worst is: 109\n",
      "generations best is: 51, generations worst is: 105\n",
      "generations best is: 48, generations worst is: 102\n",
      "generations best is: 51, generations worst is: 100\n",
      "generations best is: 48, generations worst is: 95\n",
      "generations best is: 46, generations worst is: 88\n",
      "generations best is: 50, generations worst is: 88\n",
      "generations best is: 49, generations worst is: 87\n",
      "generations best is: 46, generations worst is: 83\n",
      "generations best is: 45, generations worst is: 84\n",
      "generations best is: 43, generations worst is: 80\n",
      "generations best is: 43, generations worst is: 79\n",
      "generations best is: 40, generations worst is: 74\n",
      "generations best is: 39, generations worst is: 73\n",
      "generations best is: 40, generations worst is: 70\n",
      "generations best is: 39, generations worst is: 70\n",
      "generations best is: 40, generations worst is: 71\n",
      "generations best is: 38, generations worst is: 67\n",
      "generations best is: 39, generations worst is: 69\n",
      "generations best is: 38, generations worst is: 69\n",
      "generations best is: 38, generations worst is: 67\n",
      "generations best is: 38, generations worst is: 73\n",
      "generations best is: 38, generations worst is: 65\n",
      "generations best is: 38, generations worst is: 65\n",
      "generations best is: 38, generations worst is: 67\n",
      "generations best is: 38, generations worst is: 65\n",
      "generations best is: 38, generations worst is: 65\n",
      "generations best is: 38, generations worst is: 67\n",
      "generations best is: 38, generations worst is: 67\n",
      "generations best is: 38, generations worst is: 65\n",
      "generations best is: 38, generations worst is: 70\n",
      "generations best is: 38, generations worst is: 72\n",
      "generations best is: 38, generations worst is: 66\n",
      "generations best is: 38, generations worst is: 62\n",
      "generations best is: 38, generations worst is: 64\n",
      "generations best is: 38, generations worst is: 68\n",
      "generations best is: 38, generations worst is: 66\n",
      "generations best is: 38, generations worst is: 66\n",
      "generations best is: 38, generations worst is: 62\n",
      "generations best is: 38, generations worst is: 62\n",
      "generations best is: 38, generations worst is: 72\n",
      "generations best is: 38, generations worst is: 62\n",
      "generations best is: 38, generations worst is: 64\n",
      "generations best is: 38, generations worst is: 62\n",
      "generations best is: 38, generations worst is: 66\n",
      "generations best is: 38, generations worst is: 63\n",
      "generations best is: 38, generations worst is: 60\n",
      "generations best is: 38, generations worst is: 67\n",
      "generations best is: 38, generations worst is: 62\n",
      "generations best is: 38, generations worst is: 64\n",
      "generations best is: 38, generations worst is: 62\n",
      "generations best is: 38, generations worst is: 66\n",
      "generations best is: 38, generations worst is: 64\n",
      "generations best is: 38, generations worst is: 60\n",
      "generations best is: 38, generations worst is: 66\n",
      "generations best is: 38, generations worst is: 62\n",
      "generations best is: 38, generations worst is: 60\n",
      "generations best is: 38, generations worst is: 62\n"
     ]
    }
   ],
   "source": [
    "best_planning = gen_algo(hourlystaff_needed, n_iterations = 100)"
   ]
  },
  {
   "cell_type": "code",
   "execution_count": 19,
   "metadata": {},
   "outputs": [
    {
     "name": "stdout",
     "output_type": "stream",
     "text": [
      "[array([[[ 0,  4,  0],\n",
      "        [ 1,  6,  3],\n",
      "        [ 2, 17,  8],\n",
      "        [ 3, 12,  8],\n",
      "        [ 4,  6,  8],\n",
      "        [ 5, 12,  8],\n",
      "        [ 6, 18,  2],\n",
      "        [ 7, 17,  9],\n",
      "        [ 8, 11,  9],\n",
      "        [ 9,  6,  7],\n",
      "        [10,  6,  3]],\n",
      "\n",
      "       [[ 0,  6,  3],\n",
      "        [ 1, 17,  7],\n",
      "        [ 2, 12,  8],\n",
      "        [ 3,  8,  0],\n",
      "        [ 4, 12,  8],\n",
      "        [ 5, 12,  8],\n",
      "        [ 6,  6,  8],\n",
      "        [ 7,  6,  2],\n",
      "        [ 8,  6,  9],\n",
      "        [ 9,  7,  0],\n",
      "        [10, 17,  9]],\n",
      "\n",
      "       [[ 0, 17,  3],\n",
      "        [ 1, 12,  8],\n",
      "        [ 2, 17,  8],\n",
      "        [ 3, 12,  8],\n",
      "        [ 4,  6,  8],\n",
      "        [ 5,  6,  3],\n",
      "        [ 6, 17,  8],\n",
      "        [ 7, 12,  2],\n",
      "        [ 8, 17,  3],\n",
      "        [ 9,  6,  2],\n",
      "        [10,  6,  8]],\n",
      "\n",
      "       [[ 0, 17,  3],\n",
      "        [ 1,  6,  8],\n",
      "        [ 2,  6,  8],\n",
      "        [ 3,  7,  7],\n",
      "        [ 4, 12,  2],\n",
      "        [ 5, 12,  8],\n",
      "        [ 6, 18,  8],\n",
      "        [ 7, 12,  8],\n",
      "        [ 8, 17,  7],\n",
      "        [ 9, 19,  1],\n",
      "        [10,  6,  2]],\n",
      "\n",
      "       [[ 0,  7,  0],\n",
      "        [ 1, 18,  2],\n",
      "        [ 2,  7,  7],\n",
      "        [ 3,  6,  3],\n",
      "        [ 4,  6,  8],\n",
      "        [ 5, 16,  4],\n",
      "        [ 6,  5,  4],\n",
      "        [ 7, 16,  9],\n",
      "        [ 8, 17,  9],\n",
      "        [ 9, 12,  8],\n",
      "        [10, 12,  8]]])]\n"
     ]
    }
   ],
   "source": [
    "print(best_planning)"
   ]
  },
  {
   "cell_type": "code",
   "execution_count": 20,
   "metadata": {},
   "outputs": [
    {
     "name": "stdout",
     "output_type": "stream",
     "text": [
      "[[0 0 0 0 0 0 4 4 4 2 2 3 5 4 3 3 3 5 6 6 2 2 2 2]\n",
      " [0 0 0 0 0 0 4 4 3 2 2 2 5 5 4 3 3 5 5 5 2 2 2 2]\n",
      " [0 0 0 0 0 0 4 4 3 2 2 2 5 5 2 2 2 6 6 6 2 2 2 2]\n",
      " [0 0 0 0 0 0 3 4 3 3 3 3 6 6 2 2 2 4 5 6 2 2 2 2]\n",
      " [0 0 0 0 0 1 3 4 4 2 2 2 4 4 2 2 4 5 6 6 2 2 2 2]]\n"
     ]
    }
   ],
   "source": [
    "print(staffplanning_to_hourlyplanning(best_planning[0]))"
   ]
  },
  {
   "cell_type": "code",
   "execution_count": 21,
   "metadata": {},
   "outputs": [
    {
     "name": "stdout",
     "output_type": "stream",
     "text": [
      "[[0 0 0 0 0 0 4 4 4 2 2 2 6 6 2 2 2 6 6 6 2 2 2 2]\n",
      " [0 0 0 0 0 0 4 4 4 2 2 2 6 6 2 2 2 6 6 6 2 2 2 2]\n",
      " [0 0 0 0 0 0 4 4 4 2 2 2 6 6 2 2 2 6 6 6 2 2 2 2]\n",
      " [0 0 0 0 0 0 4 4 4 2 2 2 6 6 2 2 2 6 6 6 2 2 2 2]\n",
      " [0 0 0 0 0 0 4 4 4 2 2 2 6 6 2 2 2 6 6 6 2 2 2 2]]\n"
     ]
    }
   ],
   "source": [
    "print(hourlystaff_needed)"
   ]
  },
  {
   "cell_type": "code",
   "execution_count": null,
   "metadata": {},
   "outputs": [],
   "source": []
  }
 ],
 "metadata": {
  "kernelspec": {
   "display_name": "Python 3.7 (tensorflow)",
   "language": "python",
   "name": "tensorflow"
  },
  "language_info": {
   "codemirror_mode": {
    "name": "ipython",
    "version": 3
   },
   "file_extension": ".py",
   "mimetype": "text/x-python",
   "name": "python",
   "nbconvert_exporter": "python",
   "pygments_lexer": "ipython3",
   "version": "3.7.6"
  }
 },
 "nbformat": 4,
 "nbformat_minor": 4
}
