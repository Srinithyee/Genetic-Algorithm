{
 "cells": [
  {
   "cell_type": "code",
   "execution_count": 1,
   "metadata": {},
   "outputs": [],
   "source": [
    "import numpy as np\n",
    "import pandas as pd"
   ]
  },
  {
   "cell_type": "markdown",
   "metadata": {},
   "source": [
    ">We consider a list of 11 employees with employee IDs from 0 to 10.The 3 parameters in each embedded list is the staff_id,start time,duration.By a rule,every staff works for 10 hours each of the 5 working days of a week, hence the 5 rows."
   ]
  },
  {
   "cell_type": "code",
   "execution_count": 2,
   "metadata": {},
   "outputs": [],
   "source": [
    "staff_planning = [\n",
    "    [[0, 0, 10],[1, 0, 10],[2, 0, 10],[3, 0, 10],[4, 0, 10],[5, 0, 10],[6, 0, 10],[7, 0, 10],[8, 0, 10],[9, 0, 10],[10, 0, 10]],\n",
    "    [[0, 0, 10],[1, 0, 10],[2, 0, 10],[3, 0, 10],[4, 0, 10],[5, 0, 10],[6, 0, 10],[7, 0, 10],[8, 0, 10],[9, 0, 10],[10, 0, 10]],\n",
    "    [[0, 0, 10],[1, 0, 10],[2, 0, 10],[3, 0, 10],[4, 0, 10],[5, 0, 10],[6, 0, 10],[7, 0, 10],[8, 0, 10],[9, 0, 10],[10, 0, 10]],\n",
    "    [[0, 0, 10],[1, 0, 10],[2, 0, 10],[3, 0, 10],[4, 0, 10],[5, 0, 10],[6, 0, 10],[7, 0, 10],[8, 0, 10],[9, 0, 10],[10, 0, 10]],\n",
    "    [[0, 0, 10],[1, 0, 10],[2, 0, 10],[3, 0, 10],[4, 0, 10],[5, 0, 10],[6, 0, 10],[7, 0, 10],[8, 0, 10],[9, 0, 10],[10, 0, 10]]\n",
    "]"
   ]
  },
  {
   "cell_type": "markdown",
   "metadata": {},
   "source": [
    ">The staff needed is in the following shape:\n",
    "+ list of days\n",
    "+ each day is a list of 24 hours with the number of employees needed every hour"
   ]
  },
  {
   "cell_type": "code",
   "execution_count": 3,
   "metadata": {},
   "outputs": [],
   "source": [
    "hourlystaff_needed = np.array([\n",
    "    [0, 0, 0, 0, 0, 0, 4, 4, 4, 2, 2, 2, 6, 6, 2, 2, 2, 6, 6, 6, 2, 2, 2, 2],\n",
    "    [0, 0, 0, 0, 0, 0, 4, 4, 4, 2, 2, 2, 6, 6, 2, 2, 2, 6, 6, 6, 2, 2, 2, 2],\n",
    "    [0, 0, 0, 0, 0, 0, 4, 4, 4, 2, 2, 2, 6, 6, 2, 2, 2, 6, 6, 6, 2, 2, 2, 2],\n",
    "    [0, 0, 0, 0, 0, 0, 4, 4, 4, 2, 2, 2, 6, 6, 2, 2, 2, 6, 6, 6, 2, 2, 2, 2],\n",
    "    [0, 0, 0, 0, 0, 0, 4, 4, 4, 2, 2, 2, 6, 6, 2, 2, 2, 6, 6, 6, 2, 2, 2, 2]\n",
    "])\n",
    "    "
   ]
  },
  {
   "cell_type": "markdown",
   "metadata": {},
   "source": [
    "### Check if an Employee is present\n"
   ]
  },
  {
   "cell_type": "code",
   "execution_count": 4,
   "metadata": {},
   "outputs": [],
   "source": [
    "def employee_present(employee, time):\n",
    "    employee_start_time = employee[1]\n",
    "    employee_duration = employee[2]\n",
    "    employee_end_time = employee_start_time + employee_duration\n",
    "    if (time >= employee_start_time) and (time < employee_end_time):\n",
    "        return True\n",
    "    return False"
   ]
  },
  {
   "cell_type": "markdown",
   "metadata": {},
   "source": [
    "### Convert a staff planning to a staff-needed planning.The employee planning is organised per employee, the staff-needed planning is the number of employees working per hour.The staff-needed planning is based on the employee planning and will allow to calculate the difference with the staff-needed\n"
   ]
  },
  {
   "cell_type": "code",
   "execution_count": 5,
   "metadata": {},
   "outputs": [],
   "source": [
    "def staffplanning_to_hourlyplanning(staff_planning):\n",
    "    \n",
    "    hourlystaff_week = []\n",
    "    for day in staff_planning:\n",
    "        \n",
    "        hourlystaff_day = [] \n",
    "        for employee in day:\n",
    "            \n",
    "            employee_present_hour = []\n",
    "            for time in range(0, 24):\n",
    "                \n",
    "                employee_present_hour.append(employee_present(employee, time))\n",
    "                \n",
    "            hourlystaff_day.append(employee_present_hour)\n",
    "            \n",
    "        hourlystaff_week.append(hourlystaff_day)\n",
    "        \n",
    "    hourlystaff_week = np.array(hourlystaff_week).sum(axis = 1)  \n",
    "    return hourlystaff_week"
   ]
  },
  {
   "cell_type": "markdown",
   "metadata": {},
   "source": [
    "### The cost is calculated as hours understaffed + hours overstaffed"
   ]
  },
  {
   "cell_type": "code",
   "execution_count": 6,
   "metadata": {},
   "outputs": [],
   "source": [
    "def cost(hourlystaff, hourlystaff_needed):\n",
    "    errors = hourlystaff - hourlystaff_needed\n",
    "    overstaff = abs(errors[errors > 0].sum())\n",
    "    understaff = abs(errors[errors < 0].sum())\n",
    "    \n",
    "    overstaff_cost = 1\n",
    "    understaff_cost = 1\n",
    "    \n",
    "    cost = overstaff_cost * overstaff + understaff_cost * understaff\n",
    "    return cost"
   ]
  },
  {
   "cell_type": "markdown",
   "metadata": {},
   "source": [
    "# CODE FOR GENETIC ALGORITHM\n"
   ]
  },
  {
   "cell_type": "markdown",
   "metadata": {},
   "source": [
    ">## The random initialization\n",
    "Given the fixed number of days and staffs,\n",
    "The only randomised parameters are:\n",
    "+ The start time of an Employee (between 0 and 23)\n",
    "+ The duration of Work of each Employee (between 0 and 10)\n"
   ]
  },
  {
   "cell_type": "code",
   "execution_count": 7,
   "metadata": {},
   "outputs": [],
   "source": [
    "def generate_random_staff_planning(n_days, n_staff):\n",
    "    period_planning = []\n",
    "    for day in range(n_days):\n",
    "        day_planning = []\n",
    "        for employee_id in range(n_staff):\n",
    "            start_time = np.random.randint(0, 23)\n",
    "            duration = np.random.randint(0, 10)\n",
    "            employee = [employee_id, start_time, duration]\n",
    "            day_planning.append(employee)\n",
    "\n",
    "        period_planning.append(day_planning)\n",
    "            \n",
    "    return period_planning"
   ]
  }
 ],
 "metadata": {
  "kernelspec": {
   "display_name": "Python 3.7 (tensorflow)",
   "language": "python",
   "name": "tensorflow"
  },
  "language_info": {
   "codemirror_mode": {
    "name": "ipython",
    "version": 3
   },
   "file_extension": ".py",
   "mimetype": "text/x-python",
   "name": "python",
   "nbconvert_exporter": "python",
   "pygments_lexer": "ipython3",
   "version": "3.7.6"
  }
 },
 "nbformat": 4,
 "nbformat_minor": 4
}
